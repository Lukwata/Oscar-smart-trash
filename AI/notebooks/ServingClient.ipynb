{
 "cells": [
  {
   "cell_type": "code",
   "execution_count": 1,
   "metadata": {},
   "outputs": [],
   "source": [
    "import sys\n",
    "\n",
    "sys.path.append(\"../src\")"
   ]
  },
  {
   "cell_type": "code",
   "execution_count": 2,
   "metadata": {
    "scrolled": false
   },
   "outputs": [
    {
     "name": "stderr",
     "output_type": "stream",
     "text": [
      "/home/ubuntu/.pyenv/versions/3.6.2/lib/python3.6/importlib/_bootstrap.py:205: RuntimeWarning: compiletime version 3.5 of module 'tensorflow.python.framework.fast_tensor_util' does not match runtime version 3.6\n",
      "  return f(*args, **kwds)\n"
     ]
    }
   ],
   "source": [
    "import os\n",
    "import time\n",
    "import threading\n",
    "\n",
    "import tensorflow as tf\n",
    "import numpy as np\n",
    "from grpc.beta import implementations\n",
    "\n",
    "from apis import prediction_service_pb2\n",
    "from apis import predict_pb2"
   ]
  },
  {
   "cell_type": "markdown",
   "metadata": {},
   "source": [
    "# Run request and show result"
   ]
  },
  {
   "cell_type": "code",
   "execution_count": 4,
   "metadata": {},
   "outputs": [],
   "source": [
    "host = \"192.168.1.113\"\n",
    "port = 9000\n",
    "\n",
    "image_path = \"/home/ubuntu/Downloads/20171204_161643.jpg\"\n",
    "with open(image_path, \"rb\") as f:\n",
    "    data = f.read()"
   ]
  },
  {
   "cell_type": "code",
   "execution_count": 5,
   "metadata": {},
   "outputs": [],
   "source": [
    "channel = implementations.insecure_channel(host, int(port))\n",
    "stub = prediction_service_pb2.beta_create_PredictionService_stub(channel)"
   ]
  },
  {
   "cell_type": "code",
   "execution_count": 6,
   "metadata": {},
   "outputs": [],
   "source": [
    "request = predict_pb2.PredictRequest()\n",
    "request.model_spec.name = \"recycle\"\n",
    "request.model_spec.signature_name = \"scores\"\n",
    "request.inputs[\"image\"].CopyFrom(tf.contrib.util.make_tensor_proto([data], dtype=tf.string))"
   ]
  },
  {
   "cell_type": "code",
   "execution_count": 7,
   "metadata": {
    "scrolled": false
   },
   "outputs": [
    {
     "data": {
      "text/plain": [
       "outputs {\n",
       "  key: \"class_id\"\n",
       "  value {\n",
       "    dtype: DT_INT64\n",
       "    tensor_shape {\n",
       "      dim {\n",
       "        size: 1\n",
       "      }\n",
       "    }\n",
       "    int64_val: 17\n",
       "  }\n",
       "}\n",
       "outputs {\n",
       "  key: \"prob\"\n",
       "  value {\n",
       "    dtype: DT_FLOAT\n",
       "    tensor_shape {\n",
       "      dim {\n",
       "        size: 1\n",
       "      }\n",
       "    }\n",
       "    float_val: 0.8333612084388733\n",
       "  }\n",
       "}"
      ]
     },
     "execution_count": 7,
     "metadata": {},
     "output_type": "execute_result"
    }
   ],
   "source": [
    "result = stub.Predict(request, 10.0)\n",
    "result"
   ]
  },
  {
   "cell_type": "code",
   "execution_count": 15,
   "metadata": {},
   "outputs": [
    {
     "data": {
      "text/plain": [
       "array([[ -6.01338387, -13.18535233,  -8.02176952,  -6.75897646,\n",
       "         -9.61907005,  -8.93222427, -10.33878422, -13.82873154,\n",
       "         -6.57908678, -11.15718937, -15.23946953, -10.56701279,\n",
       "         -9.20000935,  -9.91709995,  -9.73126125, -12.0344038 ,\n",
       "         -5.10550308, -12.97931862,   1.36900067,  11.26507664,\n",
       "         -8.05778027,  -8.55801105, -16.73856354, -12.15321445,\n",
       "        -15.29555225,  -7.55768776,  -1.24826717,  -8.15581703,\n",
       "         -8.61640263,  -6.9349575 ]], dtype=float32)"
      ]
     },
     "execution_count": 15,
     "metadata": {},
     "output_type": "execute_result"
    }
   ],
   "source": [
    "logits = tf.contrib.util.make_ndarray(result.outputs[\"logits\"])\n",
    "logits"
   ]
  },
  {
   "cell_type": "code",
   "execution_count": 18,
   "metadata": {},
   "outputs": [
    {
     "data": {
      "text/plain": [
       "19"
      ]
     },
     "execution_count": 18,
     "metadata": {},
     "output_type": "execute_result"
    }
   ],
   "source": [
    "np.argmax(logits)"
   ]
  },
  {
   "cell_type": "markdown",
   "metadata": {},
   "source": [
    "# Test serving speed"
   ]
  },
  {
   "cell_type": "code",
   "execution_count": 5,
   "metadata": {},
   "outputs": [],
   "source": [
    "def send_request(num_runs):\n",
    "    channel = implementations.insecure_channel(host, int(port))\n",
    "    stub = prediction_service_pb2.beta_create_PredictionService_stub(channel)\n",
    "    \n",
    "    request = predict_pb2.PredictRequest()\n",
    "    request.model_spec.name = \"recycle\"\n",
    "    request.model_spec.signature_name = \"scores\"\n",
    "    request.inputs[\"image\"].CopyFrom(tf.contrib.util.make_tensor_proto([data], dtype=tf.string))\n",
    "    \n",
    "    for _ in range(num_runs):\n",
    "        result = stub.Predict(request, 10.0)"
   ]
  },
  {
   "cell_type": "code",
   "execution_count": 10,
   "metadata": {
    "scrolled": true
   },
   "outputs": [
    {
     "name": "stdout",
     "output_type": "stream",
     "text": [
      "Elapsed: 17.511889219284058, time per request: 0.010944930762052536\n"
     ]
    }
   ],
   "source": [
    "num_threads = 16\n",
    "num_runs = 100\n",
    "thr = []\n",
    "for _ in range(num_threads):\n",
    "    t = threading.Thread(target=send_request, args=(num_runs,))\n",
    "    thr.append(t)\n",
    "    \n",
    "start_time = time.time()\n",
    "[t.start() for t in thr]\n",
    "[t.join() for t in thr]\n",
    "elapsed = time.time() - start_time\n",
    "print(\"Elapsed: {}, time per request: {}\".format(elapsed, elapsed / num_runs / num_threads))"
   ]
  },
  {
   "cell_type": "markdown",
   "metadata": {},
   "source": [
    "# Check accuracy of running model"
   ]
  },
  {
   "cell_type": "code",
   "execution_count": 9,
   "metadata": {},
   "outputs": [],
   "source": [
    "channel = implementations.insecure_channel(host, int(port))\n",
    "stub = prediction_service_pb2.beta_create_PredictionService_stub(channel)\n",
    "\n",
    "request = predict_pb2.PredictRequest()\n",
    "request.model_spec.name = \"recycle\"\n",
    "request.model_spec.signature_name = \"scores\""
   ]
  },
  {
   "cell_type": "code",
   "execution_count": 18,
   "metadata": {},
   "outputs": [
    {
     "name": "stdout",
     "output_type": "stream",
     "text": [
      "Done rechargeable_battery_000011.jpg, class_id 6\n",
      "Done rechargeable_battery_000012.png, class_id 6\n",
      "Done rechargeable_battery_000072.jpg, class_id 6\n",
      "Done rechargeable_battery_000085.jpg, class_id 6\n",
      "Done rechargeable_battery_000114.jpeg, class_id 15\n",
      "Done rechargeable_battery_000126.jpg, class_id 6\n",
      "Done rechargeable_battery_000149.JPG, class_id 6\n",
      "Done rechargeable_battery_000170.jpg, class_id 6\n",
      "Done rechargeable_battery_000173.jpg, class_id 6\n",
      "Done rechargeable_battery_000178.jpg, class_id 6\n",
      "Done rechargeable_battery_000181.png, class_id 6\n",
      "Done rechargeable_battery_000192.jpg, class_id 6\n",
      "Done used_battery_000008.png, class_id 6\n",
      "Done used_battery_000016.jpg, class_id 6\n",
      "Done used_battery_000052.jpg, class_id 6\n",
      "Done used_battery_000062.jpg, class_id 6\n",
      "Done used_battery_000113.jpg, class_id 24\n",
      "Done used_battery_000120.jpg, class_id 6\n",
      "Done used_battery_000133.JPG, class_id 6\n",
      "Done used_battery_000165.jpg, class_id 6\n",
      "Done used_phone_battery_000030.jpg, class_id 6\n",
      "Done used_phone_battery_000129.jpg, class_id 6\n",
      "Done used_phone_battery_000173.jpg, class_id 6\n",
      "0.913043\n"
     ]
    }
   ],
   "source": [
    "folder = \"/home/ubuntu/github/ai/recycle/data/raw/merged_v2/split/val/non_07_Batteries/\"\n",
    "class_ids = []\n",
    "for dirpath, dirnames, filenames in os.walk(folder):\n",
    "    for filename in sorted(filenames):\n",
    "        image_path = os.path.join(dirpath, filename)\n",
    "        with open(image_path, \"rb\") as f:\n",
    "            data = f.read()\n",
    "            \n",
    "        request.inputs[\"image\"].CopyFrom(tf.contrib.util.make_tensor_proto([data], dtype=tf.string))\n",
    "        result = stub.Predict(request, 10.0)\n",
    "        class_id = tf.contrib.util.make_ndarray(result.outputs[\"class_id\"])[0]\n",
    "        class_ids.append(class_id)\n",
    "        print(\"Done {}, class_id {}\".format(filename, class_id))\n",
    "        \n",
    "print(np.mean((np.array(class_ids) == 6).astype(np.float32)))"
   ]
  },
  {
   "cell_type": "code",
   "execution_count": null,
   "metadata": {},
   "outputs": [],
   "source": []
  },
  {
   "cell_type": "code",
   "execution_count": null,
   "metadata": {},
   "outputs": [],
   "source": []
  },
  {
   "cell_type": "code",
   "execution_count": null,
   "metadata": {},
   "outputs": [],
   "source": []
  },
  {
   "cell_type": "code",
   "execution_count": null,
   "metadata": {},
   "outputs": [],
   "source": []
  },
  {
   "cell_type": "code",
   "execution_count": null,
   "metadata": {},
   "outputs": [],
   "source": []
  },
  {
   "cell_type": "code",
   "execution_count": null,
   "metadata": {},
   "outputs": [],
   "source": []
  },
  {
   "cell_type": "code",
   "execution_count": null,
   "metadata": {},
   "outputs": [],
   "source": []
  },
  {
   "cell_type": "code",
   "execution_count": null,
   "metadata": {},
   "outputs": [],
   "source": []
  },
  {
   "cell_type": "code",
   "execution_count": null,
   "metadata": {},
   "outputs": [],
   "source": []
  },
  {
   "cell_type": "code",
   "execution_count": null,
   "metadata": {},
   "outputs": [],
   "source": []
  },
  {
   "cell_type": "code",
   "execution_count": null,
   "metadata": {},
   "outputs": [],
   "source": []
  },
  {
   "cell_type": "code",
   "execution_count": null,
   "metadata": {},
   "outputs": [],
   "source": []
  },
  {
   "cell_type": "code",
   "execution_count": null,
   "metadata": {},
   "outputs": [],
   "source": []
  },
  {
   "cell_type": "code",
   "execution_count": null,
   "metadata": {},
   "outputs": [],
   "source": []
  },
  {
   "cell_type": "code",
   "execution_count": null,
   "metadata": {},
   "outputs": [],
   "source": []
  },
  {
   "cell_type": "code",
   "execution_count": null,
   "metadata": {},
   "outputs": [],
   "source": []
  },
  {
   "cell_type": "code",
   "execution_count": null,
   "metadata": {},
   "outputs": [],
   "source": []
  }
 ],
 "metadata": {
  "kernelspec": {
   "display_name": "Python 3",
   "language": "python",
   "name": "python3"
  },
  "language_info": {
   "codemirror_mode": {
    "name": "ipython",
    "version": 3
   },
   "file_extension": ".py",
   "mimetype": "text/x-python",
   "name": "python",
   "nbconvert_exporter": "python",
   "pygments_lexer": "ipython3",
   "version": "3.6.2"
  }
 },
 "nbformat": 4,
 "nbformat_minor": 2
}
