{
 "cells": [
  {
   "cell_type": "code",
   "execution_count": 2,
   "metadata": {},
   "outputs": [
    {
     "name": "stderr",
     "output_type": "stream",
     "text": [
      "/home/ubuntu/.pyenv/versions/3.6.2/lib/python3.6/importlib/_bootstrap.py:205: RuntimeWarning: compiletime version 3.5 of module 'tensorflow.python.framework.fast_tensor_util' does not match runtime version 3.6\n",
      "  return f(*args, **kwds)\n"
     ]
    },
    {
     "name": "stdout",
     "output_type": "stream",
     "text": [
      "1.4.0\n"
     ]
    }
   ],
   "source": [
    "import tensorflow as tf\n",
    "from tensorflow.contrib import learn\n",
    "from tensorflow.contrib import slim\n",
    "tf.logging.set_verbosity('DEBUG')\n",
    "print(tf.__version__)"
   ]
  },
  {
   "cell_type": "markdown",
   "metadata": {},
   "source": [
    "# Accuracy resetting in training/evaluation loop"
   ]
  },
  {
   "cell_type": "code",
   "execution_count": 2,
   "metadata": {},
   "outputs": [],
   "source": [
    "def input_fn():\n",
    "    queue = tf.FIFOQueue(100, tf.float32)\n",
    "    enqueue = queue.enqueue_many([[1., 0.] * 100])\n",
    "    qr = tf.train.QueueRunner(queue, [enqueue])\n",
    "    tf.train.add_queue_runner(qr)\n",
    "    labels = queue.dequeue()\n",
    "\n",
    "    queue = tf.FIFOQueue(100, tf.float32)\n",
    "    enqueue = queue.enqueue_many([[x * 1. for x in range(100)]])\n",
    "    qr = tf.train.QueueRunner(queue, [enqueue])\n",
    "    tf.train.add_queue_runner(qr)\n",
    "    features = {\"x\": queue.dequeue()}\n",
    "\n",
    "    return features, labels"
   ]
  },
  {
   "cell_type": "code",
   "execution_count": 3,
   "metadata": {},
   "outputs": [],
   "source": [
    "def model_fn(features, labels, mode, params, config):\n",
    "    # Build metrics and add summary\n",
    "    eval_metric_ops = None\n",
    "    predict_classes = tf.constant([1.])\n",
    "\n",
    "    w = tf.Variable([0.])\n",
    "    loss = predict_classes * w\n",
    "    optimizer = tf.train.AdamOptimizer()\n",
    "    train_op = slim.learning.create_train_op(loss, optimizer)\n",
    "\n",
    "    accuracy = tf.metrics.accuracy(labels, predict_classes)\n",
    "    recall = tf.metrics.recall(labels, predict_classes)\n",
    "    loss = tf.Print(loss, [features[\"x\"], labels, predict_classes], \"****\")\n",
    "\n",
    "    if mode == tf.estimator.ModeKeys.EVAL:\n",
    "        eval_metric_ops = {\"accuracy\": accuracy, \"recall\": recall}\n",
    "    else:\n",
    "        tf.summary.scalar(\"accuracy\", accuracy[1])\n",
    "        tf.summary.scalar(\"recall\", recall[1])\n",
    "\n",
    "    predictions = None\n",
    "\n",
    "    return tf.estimator.EstimatorSpec(mode, predictions=predictions,\n",
    "                                      loss=loss, train_op=train_op,\n",
    "                                      eval_metric_ops=eval_metric_ops)"
   ]
  },
  {
   "cell_type": "code",
   "execution_count": 6,
   "metadata": {},
   "outputs": [
    {
     "name": "stdout",
     "output_type": "stream",
     "text": [
      "INFO:tensorflow:Using default config.\n",
      "INFO:tensorflow:Using config: {'_model_dir': '/tmp/testtf', '_tf_random_seed': None, '_save_summary_steps': 100, '_save_checkpoints_steps': None, '_save_checkpoints_secs': 600, '_session_config': None, '_keep_checkpoint_max': 5, '_keep_checkpoint_every_n_hours': 10000, '_log_step_count_steps': 100, '_service': None, '_cluster_spec': <tensorflow.python.training.server_lib.ClusterSpec object at 0x7fa860300a90>, '_task_type': 'worker', '_task_id': 0, '_master': '', '_is_chief': True, '_num_ps_replicas': 0, '_num_worker_replicas': 1}\n",
      "WARNING:tensorflow:Estimator's model_fn (<function model_fn at 0x7fa8636c4510>) includes params argument, but params are not passed to Estimator.\n"
     ]
    }
   ],
   "source": [
    "config = tf.estimator.RunConfig(save_summary_steps=1, save_checkpoints_steps=5)\n",
    "estimator = tf.estimator.Estimator(model_fn, model_dir=\"/tmp/testtf\",\n",
    "                                   config=config)\n",
    "experiment = learn.Experiment(estimator,\n",
    "                              input_fn,\n",
    "                              input_fn,\n",
    "                              train_steps=15,\n",
    "                              eval_steps=4)\n",
    "\n",
    "experiment.train_and_evaluate()"
   ]
  },
  {
   "cell_type": "markdown",
   "metadata": {},
   "source": [
    "## Remark: \n",
    "#### Accuracy in evaluation mode: average (streaming) accuracy of eval_steps, reset for each evaluation.\n",
    "#### Accuracy in training mode: average (streaming) accuracy of mini-batch since the start of training (not reset after an evaluation)."
   ]
  },
  {
   "cell_type": "markdown",
   "metadata": {},
   "source": [
    "# Precision and recall with non-binary classification"
   ]
  },
  {
   "cell_type": "code",
   "execution_count": 24,
   "metadata": {},
   "outputs": [
    {
     "name": "stdout",
     "output_type": "stream",
     "text": [
      "[0.0, 0.75]\n"
     ]
    }
   ],
   "source": [
    "x = tf.placeholder(tf.int32, [5])\n",
    "y = tf.placeholder(tf.int32, [5])\n",
    "pre, pre_op = tf.metrics.precision(labels=x, predictions=y)\n",
    "\n",
    "with tf.Session() as sess:\n",
    "    sess.run(tf.global_variables_initializer())\n",
    "    sess.run(tf.local_variables_initializer())\n",
    "\n",
    "    v = sess.run([pre, pre_op], feed_dict={x: [1, 2, 3, 0, 5],\n",
    "                                           y: [1, 1, 0, 1, 1]})\n",
    "    print(v)"
   ]
  },
  {
   "cell_type": "code",
   "execution_count": 11,
   "metadata": {},
   "outputs": [
    {
     "name": "stdout",
     "output_type": "stream",
     "text": [
      "[0.0, 0.33333334]\n",
      "[0.0, 0.5]\n"
     ]
    }
   ],
   "source": [
    "x = tf.placeholder(tf.int32, [5])\n",
    "y = tf.placeholder(tf.int32, [5])\n",
    "rec, rec_op = tf.metrics.recall(labels=x, predictions=y)\n",
    "\n",
    "with tf.Session() as sess:\n",
    "    sess.run(tf.global_variables_initializer())\n",
    "    sess.run(tf.local_variables_initializer())\n",
    "\n",
    "    v = sess.run([rec, rec_op], feed_dict={x: [1, 1, 1, 0, 0],\n",
    "                                           y: [1, 0, 0, 0, 1]})\n",
    "    print(v)\n",
    "\n",
    "with tf.Session() as sess:\n",
    "    sess.run(tf.global_variables_initializer())\n",
    "    sess.run(tf.local_variables_initializer())\n",
    "    \n",
    "    v = sess.run([rec, rec_op], feed_dict={x: [0, 0, 0, 1, 1],\n",
    "                                           y: [0, 1, 1, 1, 0]})\n",
    "    print(v)"
   ]
  },
  {
   "cell_type": "markdown",
   "metadata": {},
   "source": [
    "## Remark: \n",
    "#### Precision and recall function work correctly only on binary classification problem: the predictions and labels are mapped to boolean before metrics are calculated."
   ]
  },
  {
   "cell_type": "markdown",
   "metadata": {},
   "source": [
    "# Mean per class accuracy vs recall"
   ]
  },
  {
   "cell_type": "code",
   "execution_count": 36,
   "metadata": {},
   "outputs": [
    {
     "name": "stdout",
     "output_type": "stream",
     "text": [
      "[0.0, array([[ 1.,  1.],\n",
      "       [ 2.,  1.]])]\n",
      "0.416667\n"
     ]
    }
   ],
   "source": [
    "x = tf.placeholder(tf.int32, [5])\n",
    "y = tf.placeholder(tf.int32, [5])\n",
    "acc, acc_op = tf.metrics.mean_per_class_accuracy(labels=x, predictions=y, num_classes=2)\n",
    "\n",
    "with tf.Session() as sess:\n",
    "    sess.run(tf.global_variables_initializer())\n",
    "    sess.run(tf.local_variables_initializer())\n",
    "\n",
    "    v = sess.run([acc, acc_op], feed_dict={x: [1, 1, 1, 0, 0],\n",
    "                                           y: [1, 0, 0, 0, 1]})\n",
    "    print(v)\n",
    "    \n",
    "    print(sess.run(acc))"
   ]
  },
  {
   "cell_type": "code",
   "execution_count": 33,
   "metadata": {},
   "outputs": [
    {
     "name": "stdout",
     "output_type": "stream",
     "text": [
      "[0.0, 0.33333334]\n",
      "[0.0, 0.5]\n",
      "0.416666686535\n"
     ]
    }
   ],
   "source": [
    "x = tf.placeholder(tf.int32, [5])\n",
    "y = tf.placeholder(tf.int32, [5])\n",
    "rec, rec_op = tf.metrics.recall(labels=x, predictions=y)\n",
    "\n",
    "with tf.Session() as sess:\n",
    "    sess.run(tf.global_variables_initializer())\n",
    "    sess.run(tf.local_variables_initializer())\n",
    "\n",
    "    v1 = sess.run([rec, rec_op], feed_dict={x: [1, 1, 1, 0, 0],\n",
    "                                           y: [1, 0, 0, 0, 1]})\n",
    "    print(v1)\n",
    "    \n",
    "with tf.Session() as sess:\n",
    "    sess.run(tf.global_variables_initializer())\n",
    "    sess.run(tf.local_variables_initializer())\n",
    "\n",
    "    v2 = sess.run([rec, rec_op], feed_dict={x: [0, 0, 0, 1, 1],\n",
    "                                           y: [0, 1, 1, 1, 0]})\n",
    "    print(v2)\n",
    "    \n",
    "print((v1[1] + v2[1]) * 0.5)"
   ]
  },
  {
   "cell_type": "markdown",
   "metadata": {},
   "source": [
    "## Remark: \n",
    "#### Mean per class accuracy is the mean of recall for each class."
   ]
  },
  {
   "cell_type": "code",
   "execution_count": null,
   "metadata": {},
   "outputs": [],
   "source": []
  },
  {
   "cell_type": "code",
   "execution_count": null,
   "metadata": {},
   "outputs": [],
   "source": []
  },
  {
   "cell_type": "code",
   "execution_count": null,
   "metadata": {},
   "outputs": [],
   "source": []
  },
  {
   "cell_type": "code",
   "execution_count": null,
   "metadata": {},
   "outputs": [],
   "source": []
  },
  {
   "cell_type": "code",
   "execution_count": null,
   "metadata": {},
   "outputs": [],
   "source": []
  },
  {
   "cell_type": "code",
   "execution_count": null,
   "metadata": {},
   "outputs": [],
   "source": []
  },
  {
   "cell_type": "code",
   "execution_count": null,
   "metadata": {},
   "outputs": [],
   "source": []
  },
  {
   "cell_type": "code",
   "execution_count": null,
   "metadata": {},
   "outputs": [],
   "source": []
  },
  {
   "cell_type": "code",
   "execution_count": null,
   "metadata": {},
   "outputs": [],
   "source": []
  },
  {
   "cell_type": "code",
   "execution_count": null,
   "metadata": {},
   "outputs": [],
   "source": []
  },
  {
   "cell_type": "code",
   "execution_count": null,
   "metadata": {},
   "outputs": [],
   "source": []
  },
  {
   "cell_type": "code",
   "execution_count": null,
   "metadata": {},
   "outputs": [],
   "source": []
  },
  {
   "cell_type": "code",
   "execution_count": null,
   "metadata": {},
   "outputs": [],
   "source": []
  },
  {
   "cell_type": "code",
   "execution_count": null,
   "metadata": {},
   "outputs": [],
   "source": []
  },
  {
   "cell_type": "code",
   "execution_count": null,
   "metadata": {},
   "outputs": [],
   "source": []
  },
  {
   "cell_type": "code",
   "execution_count": null,
   "metadata": {},
   "outputs": [],
   "source": []
  },
  {
   "cell_type": "code",
   "execution_count": null,
   "metadata": {},
   "outputs": [],
   "source": []
  },
  {
   "cell_type": "code",
   "execution_count": null,
   "metadata": {},
   "outputs": [],
   "source": []
  },
  {
   "cell_type": "code",
   "execution_count": null,
   "metadata": {},
   "outputs": [],
   "source": []
  },
  {
   "cell_type": "code",
   "execution_count": null,
   "metadata": {},
   "outputs": [],
   "source": []
  },
  {
   "cell_type": "code",
   "execution_count": null,
   "metadata": {},
   "outputs": [],
   "source": []
  },
  {
   "cell_type": "code",
   "execution_count": null,
   "metadata": {},
   "outputs": [],
   "source": []
  },
  {
   "cell_type": "code",
   "execution_count": null,
   "metadata": {},
   "outputs": [],
   "source": []
  },
  {
   "cell_type": "code",
   "execution_count": null,
   "metadata": {},
   "outputs": [],
   "source": []
  },
  {
   "cell_type": "code",
   "execution_count": null,
   "metadata": {},
   "outputs": [],
   "source": []
  },
  {
   "cell_type": "code",
   "execution_count": null,
   "metadata": {},
   "outputs": [],
   "source": []
  },
  {
   "cell_type": "code",
   "execution_count": null,
   "metadata": {},
   "outputs": [],
   "source": []
  },
  {
   "cell_type": "code",
   "execution_count": null,
   "metadata": {},
   "outputs": [],
   "source": []
  },
  {
   "cell_type": "code",
   "execution_count": null,
   "metadata": {},
   "outputs": [],
   "source": []
  },
  {
   "cell_type": "code",
   "execution_count": null,
   "metadata": {},
   "outputs": [],
   "source": []
  },
  {
   "cell_type": "code",
   "execution_count": null,
   "metadata": {},
   "outputs": [],
   "source": []
  }
 ],
 "metadata": {
  "kernelspec": {
   "display_name": "Python 3",
   "language": "python",
   "name": "python3"
  },
  "language_info": {
   "codemirror_mode": {
    "name": "ipython",
    "version": 3
   },
   "file_extension": ".py",
   "mimetype": "text/x-python",
   "name": "python",
   "nbconvert_exporter": "python",
   "pygments_lexer": "ipython3",
   "version": "3.6.2"
  }
 },
 "nbformat": 4,
 "nbformat_minor": 2
}
