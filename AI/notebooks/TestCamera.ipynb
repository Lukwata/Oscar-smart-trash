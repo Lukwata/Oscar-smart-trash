{
 "cells": [
  {
   "cell_type": "code",
   "execution_count": 2,
   "metadata": {},
   "outputs": [],
   "source": [
    "import cv2\n",
    "import numpy as np"
   ]
  },
  {
   "cell_type": "markdown",
   "metadata": {},
   "source": [
    "# Webcam Logitech C170"
   ]
  },
  {
   "cell_type": "code",
   "execution_count": 39,
   "metadata": {},
   "outputs": [],
   "source": [
    "image_paths = [\"/home/ubuntu/Pictures/vlcsnap-2017-12-04-20h39m22s382.png\", \n",
    "               \"/home/ubuntu/Pictures/vlcsnap-2017-12-04-20h39m25s549.png\"]"
   ]
  },
  {
   "cell_type": "code",
   "execution_count": 40,
   "metadata": {},
   "outputs": [],
   "source": [
    "images = []\n",
    "for path in image_paths:\n",
    "    img = cv2.imread(path)\n",
    "    images.append(img)"
   ]
  },
  {
   "cell_type": "code",
   "execution_count": 46,
   "metadata": {},
   "outputs": [
    {
     "name": "stdout",
     "output_type": "stream",
     "text": [
      "Red channel mean: 129.290825195\n",
      "Green channel mean: 131.149521484\n",
      "Blue channel mean: 130.02953776\n",
      "Abs diff: 2.37393771701\n"
     ]
    }
   ],
   "source": [
    "mean_red = np.mean([images[i][:, :, 2] for i in range(len(images))])\n",
    "mean_green = np.mean([images[i][:, :, 1] for i in range(len(images))])\n",
    "mean_blue = np.mean([images[i][:, :, 0] for i in range(len(images))])\n",
    "print(\"Red channel mean:\", mean_red)\n",
    "print(\"Green channel mean:\", mean_green)\n",
    "print(\"Blue channel mean:\", mean_blue)\n",
    "print(\"Abs diff:\", np.mean(np.abs(images[0].astype(np.int32) - images[1].astype(np.int32))))"
   ]
  },
  {
   "cell_type": "markdown",
   "metadata": {},
   "source": [
    "# PiCamera NoIR"
   ]
  },
  {
   "cell_type": "code",
   "execution_count": 47,
   "metadata": {},
   "outputs": [],
   "source": [
    "image_paths = [\"/tmp/original_img/45.jpg\", \n",
    "               \"/tmp/original_img/46.jpg\"]"
   ]
  },
  {
   "cell_type": "code",
   "execution_count": 48,
   "metadata": {},
   "outputs": [],
   "source": [
    "images = []\n",
    "for path in image_paths:\n",
    "    img = cv2.imread(path)\n",
    "    images.append(img)"
   ]
  },
  {
   "cell_type": "code",
   "execution_count": 50,
   "metadata": {},
   "outputs": [
    {
     "name": "stdout",
     "output_type": "stream",
     "text": [
      "Red channel mean: 193.363573579\n",
      "Green channel mean: 193.604699824\n",
      "Blue channel mean: 134.992124192\n",
      "Abs diff: 18.3494448863\n"
     ]
    }
   ],
   "source": [
    "mean_red = np.mean([images[i][:, :, 2] for i in range(len(images))])\n",
    "mean_green = np.mean([images[i][:, :, 1] for i in range(len(images))])\n",
    "mean_blue = np.mean([images[i][:, :, 0] for i in range(len(images))])\n",
    "print(\"Red channel mean:\", mean_red)\n",
    "print(\"Green channel mean:\", mean_green)\n",
    "print(\"Blue channel mean:\", mean_blue)\n",
    "print(\"Abs diff:\", np.mean(np.abs(images[0].astype(np.int32) - images[1].astype(np.int32))))"
   ]
  },
  {
   "cell_type": "markdown",
   "metadata": {},
   "source": [
    "# PiCamera"
   ]
  },
  {
   "cell_type": "code",
   "execution_count": 55,
   "metadata": {},
   "outputs": [],
   "source": [
    "image_paths = [\"/tmp/original_img/54.jpg\", \n",
    "               \"/tmp/original_img/55.jpg\"]"
   ]
  },
  {
   "cell_type": "code",
   "execution_count": 56,
   "metadata": {},
   "outputs": [],
   "source": [
    "images = []\n",
    "for path in image_paths:\n",
    "    img = cv2.imread(path)\n",
    "    images.append(img)"
   ]
  },
  {
   "cell_type": "code",
   "execution_count": 57,
   "metadata": {},
   "outputs": [
    {
     "name": "stdout",
     "output_type": "stream",
     "text": [
      "Red channel mean: 124.422063056\n",
      "Green channel mean: 126.735523405\n",
      "Blue channel mean: 118.451636657\n",
      "Abs diff: 5.79582520654\n"
     ]
    }
   ],
   "source": [
    "mean_red = np.mean([images[i][:, :, 2] for i in range(len(images))])\n",
    "mean_green = np.mean([images[i][:, :, 1] for i in range(len(images))])\n",
    "mean_blue = np.mean([images[i][:, :, 0] for i in range(len(images))])\n",
    "print(\"Red channel mean:\", mean_red)\n",
    "print(\"Green channel mean:\", mean_green)\n",
    "print(\"Blue channel mean:\", mean_blue)\n",
    "print(\"Abs diff:\", np.mean(np.abs(images[0].astype(np.int32) - images[1].astype(np.int32))))"
   ]
  },
  {
   "cell_type": "markdown",
   "metadata": {},
   "source": [
    "# Phone"
   ]
  },
  {
   "cell_type": "code",
   "execution_count": 52,
   "metadata": {},
   "outputs": [],
   "source": [
    "image_paths = [\"/home/ubuntu/Dropbox/Work/images/20171204_203713.jpg\", \n",
    "               \"/home/ubuntu/Dropbox/Work/images/20171204_203833.jpg\"]"
   ]
  },
  {
   "cell_type": "code",
   "execution_count": 53,
   "metadata": {},
   "outputs": [],
   "source": [
    "images = []\n",
    "for path in image_paths:\n",
    "    img = cv2.imread(path)\n",
    "    images.append(img)"
   ]
  },
  {
   "cell_type": "code",
   "execution_count": 54,
   "metadata": {},
   "outputs": [
    {
     "name": "stdout",
     "output_type": "stream",
     "text": [
      "Red channel mean: 144.96215601\n",
      "Green channel mean: 146.88104095\n",
      "Blue channel mean: 150.632313201\n",
      "Abs diff: 5.78906132394\n"
     ]
    }
   ],
   "source": [
    "mean_red = np.mean([images[i][:, :, 2] for i in range(len(images))])\n",
    "mean_green = np.mean([images[i][:, :, 1] for i in range(len(images))])\n",
    "mean_blue = np.mean([images[i][:, :, 0] for i in range(len(images))])\n",
    "print(\"Red channel mean:\", mean_red)\n",
    "print(\"Green channel mean:\", mean_green)\n",
    "print(\"Blue channel mean:\", mean_blue)\n",
    "print(\"Abs diff:\", np.mean(np.abs(images[0].astype(np.int32) - images[1].astype(np.int32))))"
   ]
  },
  {
   "cell_type": "code",
   "execution_count": null,
   "metadata": {},
   "outputs": [],
   "source": []
  },
  {
   "cell_type": "code",
   "execution_count": null,
   "metadata": {},
   "outputs": [],
   "source": []
  },
  {
   "cell_type": "code",
   "execution_count": null,
   "metadata": {},
   "outputs": [],
   "source": []
  },
  {
   "cell_type": "code",
   "execution_count": null,
   "metadata": {},
   "outputs": [],
   "source": []
  },
  {
   "cell_type": "code",
   "execution_count": null,
   "metadata": {},
   "outputs": [],
   "source": []
  },
  {
   "cell_type": "code",
   "execution_count": null,
   "metadata": {},
   "outputs": [],
   "source": []
  },
  {
   "cell_type": "code",
   "execution_count": null,
   "metadata": {},
   "outputs": [],
   "source": []
  },
  {
   "cell_type": "code",
   "execution_count": null,
   "metadata": {},
   "outputs": [],
   "source": []
  },
  {
   "cell_type": "code",
   "execution_count": null,
   "metadata": {},
   "outputs": [],
   "source": []
  },
  {
   "cell_type": "code",
   "execution_count": null,
   "metadata": {},
   "outputs": [],
   "source": []
  },
  {
   "cell_type": "code",
   "execution_count": null,
   "metadata": {},
   "outputs": [],
   "source": []
  },
  {
   "cell_type": "code",
   "execution_count": null,
   "metadata": {},
   "outputs": [],
   "source": []
  },
  {
   "cell_type": "code",
   "execution_count": null,
   "metadata": {},
   "outputs": [],
   "source": []
  },
  {
   "cell_type": "code",
   "execution_count": null,
   "metadata": {},
   "outputs": [],
   "source": []
  },
  {
   "cell_type": "code",
   "execution_count": null,
   "metadata": {},
   "outputs": [],
   "source": []
  },
  {
   "cell_type": "code",
   "execution_count": null,
   "metadata": {},
   "outputs": [],
   "source": []
  },
  {
   "cell_type": "code",
   "execution_count": null,
   "metadata": {},
   "outputs": [],
   "source": []
  },
  {
   "cell_type": "code",
   "execution_count": null,
   "metadata": {},
   "outputs": [],
   "source": []
  },
  {
   "cell_type": "code",
   "execution_count": null,
   "metadata": {},
   "outputs": [],
   "source": []
  },
  {
   "cell_type": "code",
   "execution_count": null,
   "metadata": {},
   "outputs": [],
   "source": []
  },
  {
   "cell_type": "code",
   "execution_count": null,
   "metadata": {},
   "outputs": [],
   "source": []
  },
  {
   "cell_type": "code",
   "execution_count": null,
   "metadata": {},
   "outputs": [],
   "source": []
  },
  {
   "cell_type": "code",
   "execution_count": null,
   "metadata": {},
   "outputs": [],
   "source": []
  },
  {
   "cell_type": "code",
   "execution_count": null,
   "metadata": {},
   "outputs": [],
   "source": []
  },
  {
   "cell_type": "code",
   "execution_count": null,
   "metadata": {},
   "outputs": [],
   "source": []
  },
  {
   "cell_type": "code",
   "execution_count": null,
   "metadata": {},
   "outputs": [],
   "source": []
  }
 ],
 "metadata": {
  "kernelspec": {
   "display_name": "Python 3",
   "language": "python",
   "name": "python3"
  },
  "language_info": {
   "codemirror_mode": {
    "name": "ipython",
    "version": 3
   },
   "file_extension": ".py",
   "mimetype": "text/x-python",
   "name": "python",
   "nbconvert_exporter": "python",
   "pygments_lexer": "ipython3",
   "version": "3.6.2"
  }
 },
 "nbformat": 4,
 "nbformat_minor": 2
}
