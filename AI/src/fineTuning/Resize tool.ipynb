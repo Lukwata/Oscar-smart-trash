{
 "cells": [
  {
   "cell_type": "code",
   "execution_count": 1,
   "metadata": {},
   "outputs": [
    {
     "name": "stderr",
     "output_type": "stream",
     "text": [
      "/home/ubuntu/.pyenv/versions/3.5.5/envs/recycle/lib/python3.5/site-packages/h5py/__init__.py:36: FutureWarning: Conversion of the second argument of issubdtype from `float` to `np.floating` is deprecated. In future, it will be treated as `np.float64 == np.dtype(float).type`.\n",
      "  from ._conv import register_converters as _register_converters\n",
      "Using TensorFlow backend.\n"
     ]
    }
   ],
   "source": [
    "import numpy as np\n",
    "import matplotlib.pyplot as plt\n",
    "import cv2\n",
    "%matplotlib inline\n",
    "from __future__ import print_function\n",
    "import keras\n",
    "from keras.preprocessing.image import ImageDataGenerator, load_img\n",
    "import glob\n",
    "import os"
   ]
  },
  {
   "cell_type": "code",
   "execution_count": 6,
   "metadata": {},
   "outputs": [],
   "source": [
    "src_dir_t = '/home/ubuntu/fineTuning/new-dataset/train'\n",
    "src_dir_v = '/home/ubuntu/fineTuning/new-dataset/validation'\n",
    "\n",
    "dst_dir_t = '/home/ubuntu/fineTuning/new-dataset/trainResize'\n",
    "dst_dir_v = '/home/ubuntu/fineTuning/new-dataset/validationResize'\n",
    "\n",
    "image_size = 224"
   ]
  },
  {
   "cell_type": "code",
   "execution_count": 7,
   "metadata": {},
   "outputs": [
    {
     "name": "stdout",
     "output_type": "stream",
     "text": [
      "['/home/ubuntu/fineTuning/clean-dataset/train/cardboard/', '/home/ubuntu/fineTuning/clean-dataset/train/glass/', '/home/ubuntu/fineTuning/clean-dataset/train/metal/', '/home/ubuntu/fineTuning/clean-dataset/train/paper/', '/home/ubuntu/fineTuning/clean-dataset/train/plastic/']\n",
      "N. of imgs in /cardboard/ : 324\n",
      "N. of imgs in /glass/ : 400\n",
      "N. of imgs in /metal/ : 330\n",
      "N. of imgs in /paper/ : 472\n",
      "N. of imgs in /plastic/ : 380\n"
     ]
    }
   ],
   "source": [
    "all_split = glob.glob(src_dir_t + '/*/')\n",
    "print (all_split)\n",
    "\n",
    "for folder in all_split:\n",
    "    #print (folder)\n",
    "    #print (len(folder))\n",
    "    all_img = glob.glob(folder + '*')\n",
    "    \n",
    "    folder_name = folder[len(src_dir_t):]\n",
    "    #print(folder_name)\n",
    "    print ('N. of imgs in ' + folder_name + ' : ' + str(len(all_img)))\n",
    "    \n",
    "    if not os.path.exists(dst_dir_t + folder_name):\n",
    "        os.makedirs(dst_dir_t + folder_name)\n",
    "    \n",
    "    for img in all_img:\n",
    "        #print (img[:-4])\n",
    "        #print (img)\n",
    "        #print (img[len(folder):])\n",
    "        \n",
    "        # get image's name\n",
    "        img_name = img[len(folder):]\n",
    "        img_name = img_name[:-4]\n",
    "        #print(img_name)\n",
    "        #print (i)\n",
    "        # create new image\n",
    "        img_path = dst_dir_t + folder_name + img_name + '.jpg'\n",
    "        #print('IMG_PATH = ' + img_path)\n",
    "        #print (all_img)\n",
    "        \n",
    "        oriimg = cv2.imread(img)\n",
    "        newimg = cv2.resize(oriimg,(image_size, image_size))\n",
    "        cv2.imwrite(img_path, newimg)\n"
   ]
  },
  {
   "cell_type": "code",
   "execution_count": 9,
   "metadata": {},
   "outputs": [
    {
     "name": "stdout",
     "output_type": "stream",
     "text": [
      "N. of imgs in /cardboard/ : 79\n",
      "N. of imgs in /glass/ : 101\n",
      "N. of imgs in /metal/ : 80\n",
      "N. of imgs in /paper/ : 122\n",
      "N. of imgs in /plastic/ : 102\n"
     ]
    }
   ],
   "source": [
    "all_split = glob.glob(src_dir_v + '/*/')\n",
    "\n",
    "for folder in all_split:\n",
    "    #print (folder)\n",
    "    #print (len(folder))\n",
    "    all_img = glob.glob(folder + '*')\n",
    "    \n",
    "    folder_name = folder[len(src_dir_v ):]\n",
    "    #print(folder_name)\n",
    "    print ('N. of imgs in ' + folder_name + ' : ' + str(len(all_img)))\n",
    "    \n",
    "    if not os.path.exists(dst_dir_v  + folder_name):\n",
    "        os.makedirs(dst_dir_v  + folder_name)\n",
    "    \n",
    "    for img in all_img:\n",
    "        #print (img[:-4])\n",
    "        #print (img)\n",
    "        #print (img[len(folder):])\n",
    "        \n",
    "        # get image's name\n",
    "        img_name = img[len(folder):]\n",
    "        img_name = img_name[:-4]\n",
    "        #print(img_name)\n",
    "        #print (i)\n",
    "        # create new image\n",
    "        img_path = dst_dir_v  + folder_name + img_name + '.jpg'\n",
    "        #print('IMG_PATH = ' + img_path)\n",
    "        #print (all_img)\n",
    "        \n",
    "        oriimg = cv2.imread(img)\n",
    "        newimg = cv2.resize(oriimg,(image_size, image_size))\n",
    "        cv2.imwrite(img_path, newimg)"
   ]
  },
  {
   "cell_type": "code",
   "execution_count": null,
   "metadata": {},
   "outputs": [],
   "source": []
  }
 ],
 "metadata": {
  "kernelspec": {
   "display_name": "Python 3",
   "language": "python",
   "name": "python3"
  },
  "language_info": {
   "codemirror_mode": {
    "name": "ipython",
    "version": 3
   },
   "file_extension": ".py",
   "mimetype": "text/x-python",
   "name": "python",
   "nbconvert_exporter": "python",
   "pygments_lexer": "ipython3",
   "version": "3.5.5"
  }
 },
 "nbformat": 4,
 "nbformat_minor": 2
}
